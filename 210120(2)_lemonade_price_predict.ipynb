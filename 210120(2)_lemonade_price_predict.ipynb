{
  "nbformat": 4,
  "nbformat_minor": 0,
  "metadata": {
    "colab": {
      "name": "lemonade_price_predict.ipynb",
      "provenance": [],
      "authorship_tag": "ABX9TyOmKLQg+ecCYM6It71rwZ60",
      "include_colab_link": true
    },
    "kernelspec": {
      "name": "python3",
      "display_name": "Python 3"
    }
  },
  "cells": [
    {
      "cell_type": "markdown",
      "metadata": {
        "id": "view-in-github",
        "colab_type": "text"
      },
      "source": [
        "<a href=\"https://colab.research.google.com/github/ParkEunbin/ML_basic/blob/main/210120(2)_lemonade_price_predict.ipynb\" target=\"_parent\"><img src=\"https://colab.research.google.com/assets/colab-badge.svg\" alt=\"Open In Colab\"/></a>"
      ]
    },
    {
      "cell_type": "code",
      "metadata": {
        "id": "oJDaOYWbTaAy"
      },
      "source": [
        "import pandas as pd\r\n",
        "import tensorflow as tf"
      ],
      "execution_count": 5,
      "outputs": []
    },
    {
      "cell_type": "code",
      "metadata": {
        "colab": {
          "base_uri": "https://localhost:8080/"
        },
        "id": "2hS2yGksTgq-",
        "outputId": "3ad7dcaf-16e5-474a-95ec-cfad37b2e071"
      },
      "source": [
        "#1.과거의 데이터 준비\r\n",
        "path='https://raw.githubusercontent.com/blackdew/tensorflow1/master/csv/lemonade.csv'\r\n",
        "lemonade = pd.read_csv(path)\r\n",
        "독립=lemonade[['온도']]\r\n",
        "종속=lemonade[['판매량']]\r\n",
        "print(독립.shape,종속.shape)"
      ],
      "execution_count": 6,
      "outputs": [
        {
          "output_type": "stream",
          "text": [
            "(6, 1) (6, 1)\n"
          ],
          "name": "stdout"
        }
      ]
    },
    {
      "cell_type": "code",
      "metadata": {
        "id": "Mo--dTUvTktY"
      },
      "source": [
        "#2.모델의 구조 만들기\r\n",
        "\r\n",
        "X=tf.keras.layers.Input(shape=[1]) #독립변수의 column의 갯수\r\n",
        "Y=tf.keras.layers.Dense(1)(X) #종속변수의 column의 갯수\r\n",
        "model= tf.keras.models.Model(X,Y)\r\n",
        "model.compile(loss='mse') #모델이 학습할 방법을 결정"
      ],
      "execution_count": 7,
      "outputs": []
    },
    {
      "cell_type": "code",
      "metadata": {
        "colab": {
          "base_uri": "https://localhost:8080/"
        },
        "id": "if1Y1sSIURP8",
        "outputId": "3bd819e3-ecb6-43bd-87a9-8586753f3b78"
      },
      "source": [
        "#3. 데이터로 모델을 학습\r\n",
        "model.fit(독립,종속,epochs=10) #1000번 반복해서 학습\r\n",
        "#verbose=0 넣으면 출력안됨\r\n",
        "#loss가 낮아야 잘 학습된 모델\r\n",
        "#4. 모델을 이용\r\n",
        "print(\"Predictions:\",model.predict([[15]]))"
      ],
      "execution_count": 11,
      "outputs": [
        {
          "output_type": "stream",
          "text": [
            "Epoch 1/10\n",
            "1/1 [==============================] - 0s 3ms/step - loss: 2.2549e-04\n",
            "Epoch 2/10\n",
            "1/1 [==============================] - 0s 4ms/step - loss: 2.2544e-04\n",
            "Epoch 3/10\n",
            "1/1 [==============================] - 0s 4ms/step - loss: 2.2530e-04\n",
            "Epoch 4/10\n",
            "1/1 [==============================] - 0s 7ms/step - loss: 2.2508e-04\n",
            "Epoch 5/10\n",
            "1/1 [==============================] - 0s 4ms/step - loss: 2.2495e-04\n",
            "Epoch 6/10\n",
            "1/1 [==============================] - 0s 4ms/step - loss: 2.2490e-04\n",
            "Epoch 7/10\n",
            "1/1 [==============================] - 0s 4ms/step - loss: 2.2479e-04\n",
            "Epoch 8/10\n",
            "1/1 [==============================] - 0s 3ms/step - loss: 2.2465e-04\n",
            "Epoch 9/10\n",
            "1/1 [==============================] - 0s 5ms/step - loss: 2.2455e-04\n",
            "Epoch 10/10\n",
            "1/1 [==============================] - 0s 6ms/step - loss: 2.2450e-04\n",
            "Predictions: [[30.033247]]\n"
          ],
          "name": "stdout"
        }
      ]
    }
  ]
}