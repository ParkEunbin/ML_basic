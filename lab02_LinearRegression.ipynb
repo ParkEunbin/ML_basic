{
  "nbformat": 4,
  "nbformat_minor": 0,
  "metadata": {
    "colab": {
      "name": "Untitled1.ipynb",
      "provenance": [],
      "collapsed_sections": [],
      "authorship_tag": "ABX9TyP3/zp+8N4/naxp9YtQlEn6",
      "include_colab_link": true
    },
    "kernelspec": {
      "name": "python3",
      "display_name": "Python 3"
    }
  },
  "cells": [
    {
      "cell_type": "markdown",
      "metadata": {
        "id": "view-in-github",
        "colab_type": "text"
      },
      "source": [
        "<a href=\"https://colab.research.google.com/github/ParkEunbin/ML_basic/blob/main/lab02_LinearRegression.ipynb\" target=\"_parent\"><img src=\"https://colab.research.google.com/assets/colab-badge.svg\" alt=\"Open In Colab\"/></a>"
      ]
    },
    {
      "cell_type": "markdown",
      "metadata": {
        "id": "5JF5MxvLlTU_"
      },
      "source": [
        "Linear Regraession"
      ]
    },
    {
      "cell_type": "code",
      "metadata": {
        "id": "kFYFKn15lPol"
      },
      "source": [
        "#import tensorflow as tf\r\n",
        "import tensorflow.compat.v1 as tf\r\n",
        "tf.disable_v2_behavior()"
      ],
      "execution_count": 8,
      "outputs": []
    },
    {
      "cell_type": "code",
      "metadata": {
        "colab": {
          "base_uri": "https://localhost:8080/"
        },
        "id": "5Cuhe6znlhFL",
        "outputId": "1e06d7af-caa7-4687-91ed-4a6198f28cbd"
      },
      "source": [
        "#train set\r\n",
        "x_train=[1,2,3]\r\n",
        "y_train=[1,2,3]\r\n",
        "\r\n",
        "#variable: tensorflow에서 변경하는 값들\r\n",
        "#보통 랜덤한 값으로 초기화해줌\r\n",
        "W=tf.Variable(tf.random_normal([1]),name='weight')\r\n",
        "b=tf.Variable(tf.random_normal([1]),name='bias')\r\n",
        "\r\n",
        "#Hypothesis Xw+b\r\n",
        "H=x_train*W+b\r\n",
        "\r\n",
        "#reduce_mead: 평균내주 것\r\n",
        "cost=tf.reduce_mean(tf.square(H-y_train))\r\n",
        "\r\n",
        "#Minimize>여러 방법이 있음,, 그 중 GradientDescent방식을사용\r\n",
        "optimizer=tf.train.GradientDescentOptimizer(learning_rate=0.01)\r\n",
        "train=optimizer.minimize(cost)\r\n",
        "\r\n",
        "sess=tf.Session()\r\n",
        "#global 변수(W,b) 최기화\r\n",
        "sess.run(tf.global_variables_initializer())\r\n",
        "\r\n",
        "#fit the line\r\n",
        "for step in range(2001):\r\n",
        "  #train을 실행하면> 연결되어잇는 cost,H,w,b전부 실행이 되는,,그런 느낌\r\n",
        "  sess.run(train)\r\n",
        "  if step%50==0:\r\n",
        "    print(step,sess.run(cost),sess.run(W),sess.run(b)) #W는 1로, b는 0으로 수렴\r\n",
        "    \r\n"
      ],
      "execution_count": 13,
      "outputs": [
        {
          "output_type": "stream",
          "text": [
            "0 4.2489676 [-0.06701273] [0.26588294]\n",
            "50 0.042830843 [0.7574984] [0.5452209]\n",
            "100 0.033643123 [0.78696215] [0.48426834]\n",
            "150 0.026446583 [0.8111223] [0.42936337]\n",
            "200 0.020789424 [0.83253765] [0.38068128]\n",
            "250 0.01634237 [0.85152495] [0.33751878]\n",
            "300 0.012846592 [0.8683594] [0.29925013]\n",
            "350 0.010098596 [0.88328505] [0.26532048]\n",
            "400 0.007938418 [0.89651847] [0.23523788]\n",
            "450 0.006240323 [0.9082513] [0.20856611]\n",
            "500 0.0049054604 [0.91865414] [0.1849184]\n",
            "550 0.0038561355 [0.92787725] [0.16395193]\n",
            "600 0.0030312743 [0.9360547] [0.14536268]\n",
            "650 0.002382856 [0.943305] [0.1288811]\n",
            "700 0.0018731374 [0.9497333] [0.11426821]\n",
            "750 0.0014724593 [0.9554326] [0.10131221]\n",
            "800 0.001157486 [0.96048576] [0.08982526]\n",
            "850 0.00090988836 [0.96496594] [0.07964066]\n",
            "900 0.0007152562 [0.9689382] [0.07061084]\n",
            "950 0.000562256 [0.97246003] [0.06260475]\n",
            "1000 0.00044198454 [0.9755826] [0.0555065]\n",
            "1050 0.0003474413 [0.97835106] [0.04921308]\n",
            "1100 0.00027312024 [0.9808057] [0.04363328]\n",
            "1150 0.00021469708 [0.982982] [0.03868601]\n",
            "1200 0.00016877176 [0.9849115] [0.03429974]\n",
            "1250 0.00013267146 [0.9866222] [0.03041078]\n",
            "1300 0.00010429213 [0.98813903] [0.02696278]\n",
            "1350 8.198372e-05 [0.9894837] [0.02390571]\n",
            "1400 6.444613e-05 [0.9906762] [0.02119534]\n",
            "1450 5.06606e-05 [0.9917333] [0.0187921]\n",
            "1500 3.9823655e-05 [0.9926706] [0.01666141]\n",
            "1550 3.130514e-05 [0.99350166] [0.01477231]\n",
            "1600 2.4608516e-05 [0.99423844] [0.01309738]\n",
            "1650 1.9344554e-05 [0.9948917] [0.01161239]\n",
            "1700 1.5206592e-05 [0.99547094] [0.01029567]\n",
            "1750 1.1953854e-05 [0.99598444] [0.0091283]\n",
            "1800 9.396508e-06 [0.99643975] [0.00809331]\n",
            "1850 7.386332e-06 [0.99684346] [0.00717564]\n",
            "1900 5.806516e-06 [0.99720126] [0.00636209]\n",
            "1950 4.564453e-06 [0.9975186] [0.00564076]\n",
            "2000 3.5881103e-06 [0.99779993] [0.00500123]\n"
          ],
          "name": "stdout"
        }
      ]
    },
    {
      "cell_type": "markdown",
      "metadata": {
        "id": "ACJgzYj1qoc0"
      },
      "source": [
        "Placeholder사용"
      ]
    },
    {
      "cell_type": "code",
      "metadata": {
        "colab": {
          "base_uri": "https://localhost:8080/"
        },
        "id": "m2LAjE7IqjqW",
        "outputId": "364f99d5-8235-48f5-ec14-296e2b5b7d24"
      },
      "source": [
        "#모델을 만들어 놓고 값을 나중에 적용을 할 수 있음\r\n",
        "\r\n",
        "X=tf.placeholder(tf.float32,shape=[None])\r\n",
        "Y=tf.placeholder(tf.float32,shape=[None])\r\n",
        "\r\n",
        "#동일===========================\r\n",
        "#variable: tensorflow에서 변경하는 값들\r\n",
        "#보통 랜덤한 값으로 초기화해줌\r\n",
        "W=tf.Variable(tf.random_normal([1]),name='weight')\r\n",
        "b=tf.Variable(tf.random_normal([1]),name='bias')\r\n",
        "\r\n",
        "#Hypothesis Xw+b\r\n",
        "H=X*W+b\r\n",
        "\r\n",
        "#reduce_mead: 평균내주 것\r\n",
        "cost=tf.reduce_mean(tf.square(H-Y))\r\n",
        "\r\n",
        "#Minimize>여러 방법이 있음,, 그 중 GradientDescent방식을사용\r\n",
        "optimizer=tf.train.GradientDescentOptimizer(learning_rate=0.01)\r\n",
        "train=optimizer.minimize(cost)\r\n",
        "\r\n",
        "sess=tf.Session()\r\n",
        "#global 변수(W,b) 최기화\r\n",
        "sess.run(tf.global_variables_initializer())\r\n",
        "#====================================\r\n",
        "\r\n",
        "\r\n",
        "for step in range(2001):\r\n",
        "  cost_val,W_val,b_val,_=sess.run([cost,W,b,train],feed_dict={X:[1,2,3,4,5],Y:[2.1,3.1,4.1,5.1,6.1]})\r\n",
        "  if step%50==0:\r\n",
        "    print(step,cost_val,W_val,b_val) #W는 1로, b는 0으로 수렴\r\n",
        "    \r\n",
        "\r\n",
        "\r\n"
      ],
      "execution_count": 21,
      "outputs": [
        {
          "output_type": "stream",
          "text": [
            "0 0.37922058 [1.4175507] [-0.2962183]\n",
            "50 0.2575121 [1.3283417] [-0.08541793]\n",
            "100 0.18353364 [1.2771949] [0.09923879]\n",
            "150 0.13080771 [1.2340152] [0.2551309]\n",
            "200 0.093229085 [1.1975619] [0.38673913]\n",
            "250 0.06644609 [1.1667869] [0.49784636]\n",
            "300 0.04735733 [1.1408058] [0.5916459]\n",
            "350 0.033752453 [1.118872] [0.67083395]\n",
            "400 0.024056017 [1.1003549] [0.7376865]\n",
            "450 0.01714516 [1.0847224] [0.7941254]\n",
            "500 0.012219673 [1.0715249] [0.8417726]\n",
            "550 0.008709171 [1.0603832] [0.8819976]\n",
            "600 0.0062071914 [1.050977] [0.91595656]\n",
            "650 0.0044239867 [1.0430362] [0.94462556]\n",
            "700 0.0031530515 [1.0363322] [0.9688288]\n",
            "750 0.0022472339 [1.0306726] [0.98926175]\n",
            "800 0.0016016405 [1.0258946] [1.006512]\n",
            "850 0.0011415321 [1.0218611] [1.0210748]\n",
            "900 0.00081357016 [1.0184555] [1.0333697]\n",
            "950 0.0005798555 [1.0155807] [1.0437487]\n",
            "1000 0.00041327206 [1.0131537] [1.0525111]\n",
            "1050 0.00029455396 [1.0111048] [1.0599082]\n",
            "1100 0.00020993501 [1.0093749] [1.0661533]\n",
            "1150 0.00014962534 [1.0079147] [1.0714256]\n",
            "1200 0.00010664113 [1.0066817] [1.0758767]\n",
            "1250 7.600365e-05 [1.0056409] [1.0796347]\n",
            "1300 5.41671e-05 [1.004762] [1.0828073]\n",
            "1350 3.8607097e-05 [1.0040202] [1.0854855]\n",
            "1400 2.7516126e-05 [1.003394] [1.0877464]\n",
            "1450 1.9610612e-05 [1.0028653] [1.0896549]\n",
            "1500 1.397712e-05 [1.002419] [1.0912666]\n",
            "1550 9.961367e-06 [1.0020422] [1.0926272]\n",
            "1600 7.1000977e-06 [1.0017241] [1.0937755]\n",
            "1650 5.0605695e-06 [1.0014555] [1.0947452]\n",
            "1700 3.6062625e-06 [1.0012288] [1.0955638]\n",
            "1750 2.5702732e-06 [1.0010374] [1.0962548]\n",
            "1800 1.8318755e-06 [1.0008758] [1.0968381]\n",
            "1850 1.3057781e-06 [1.0007395] [1.0973305]\n",
            "1900 9.310481e-07 [1.0006243] [1.0977461]\n",
            "1950 6.636151e-07 [1.0005271] [1.098097]\n",
            "2000 4.728948e-07 [1.000445] [1.0983933]\n"
          ],
          "name": "stdout"
        }
      ]
    },
    {
      "cell_type": "code",
      "metadata": {
        "colab": {
          "base_uri": "https://localhost:8080/"
        },
        "id": "E8ilsD5Js_Qx",
        "outputId": "f937b1ec-1c7e-4592-8a58-3dc43606da89"
      },
      "source": [
        "#Testing\r\n",
        "\r\n",
        "print(sess.run(H,feed_dict={X:[5]}))"
      ],
      "execution_count": 22,
      "outputs": [
        {
          "output_type": "stream",
          "text": [
            "[6.1006184]\n"
          ],
          "name": "stdout"
        }
      ]
    }
  ]
}