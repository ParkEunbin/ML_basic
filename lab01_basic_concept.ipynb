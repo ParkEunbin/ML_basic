{
  "nbformat": 4,
  "nbformat_minor": 0,
  "metadata": {
    "colab": {
      "name": "Untitled0.ipynb",
      "provenance": [],
      "collapsed_sections": [],
      "authorship_tag": "ABX9TyOhnUm2G4QQlo0+7LDiwbB+",
      "include_colab_link": true
    },
    "kernelspec": {
      "name": "python3",
      "display_name": "Python 3"
    }
  },
  "cells": [
    {
      "cell_type": "markdown",
      "metadata": {
        "id": "view-in-github",
        "colab_type": "text"
      },
      "source": [
        "<a href=\"https://colab.research.google.com/github/ParkEunbin/ML_basic/blob/main/lab01_basic_concept.ipynb\" target=\"_parent\"><img src=\"https://colab.research.google.com/assets/colab-badge.svg\" alt=\"Open In Colab\"/></a>"
      ]
    },
    {
      "cell_type": "code",
      "metadata": {
        "colab": {
          "base_uri": "https://localhost:8080/",
          "height": 35
        },
        "id": "pvgDGgNx3dMc",
        "outputId": "d0edd160-b8da-4458-fed6-bf0520e2ed49"
      },
      "source": [
        "import tensorflow as tf\r\n",
        "tf.__version__"
      ],
      "execution_count": 6,
      "outputs": [
        {
          "output_type": "execute_result",
          "data": {
            "application/vnd.google.colaboratory.intrinsic+json": {
              "type": "string"
            },
            "text/plain": [
              "'2.4.0'"
            ]
          },
          "metadata": {
            "tags": []
          },
          "execution_count": 6
        }
      ]
    },
    {
      "cell_type": "code",
      "metadata": {
        "colab": {
          "base_uri": "https://localhost:8080/"
        },
        "id": "7Bbn7Sd74Mao",
        "outputId": "3db2ca61-62ce-4ded-c36c-8c5da64219aa"
      },
      "source": [
        "#coumpution graph에 하나의 노드만들기\r\n",
        "hello = tf.constant(\"Hello,TensorFlow!\")\r\n",
        "#computation graph를 실행하기 위해선 session이 필요>>1.0.0버전에서\r\n",
        "#sess= tf.compat.vi.Session()\r\n",
        "#print(sess.run(hello))\r\n",
        "\r\n",
        "tf.print(hello)"
      ],
      "execution_count": 9,
      "outputs": [
        {
          "output_type": "stream",
          "text": [
            "Hello,TensorFlow!\n"
          ],
          "name": "stdout"
        }
      ]
    },
    {
      "cell_type": "code",
      "metadata": {
        "colab": {
          "base_uri": "https://localhost:8080/"
        },
        "id": "nzs_H1475wHC",
        "outputId": "739db43e-48fc-4bec-bed9-571cf5b40c7b"
      },
      "source": [
        "#더하기로 노드 2개를 연결\r\n",
        "\r\n",
        "#그래프를 build\r\n",
        "node1=tf.constant(3.0)\r\n",
        "node2=tf.constant(4.0)\r\n",
        "node3=tf.add(node1,node2) #=node1+node2\r\n",
        "#seesion을 만들어서 실행\r\n",
        "#return 값이 있다면 반환\r\n",
        "tf.print(node3)"
      ],
      "execution_count": 10,
      "outputs": [
        {
          "output_type": "stream",
          "text": [
            "7\n"
          ],
          "name": "stdout"
        }
      ]
    },
    {
      "cell_type": "code",
      "metadata": {
        "id": "oIEgT1zI7tgf"
      },
      "source": [
        "# Tensor\r\n",
        "# rank : 차원\r\n",
        "# shapes : 몇차원,몇개의 원소를 가지는지\r\n",
        "# type: 자료형  "
      ],
      "execution_count": null,
      "outputs": []
    }
  ]
}