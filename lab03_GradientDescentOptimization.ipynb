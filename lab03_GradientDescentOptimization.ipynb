{
  "nbformat": 4,
  "nbformat_minor": 0,
  "metadata": {
    "colab": {
      "name": "Untitled2.ipynb",
      "provenance": [],
      "collapsed_sections": [],
      "authorship_tag": "ABX9TyN5HjznRla2+bo3R0KNOM90",
      "include_colab_link": true
    },
    "kernelspec": {
      "name": "python3",
      "display_name": "Python 3"
    }
  },
  "cells": [
    {
      "cell_type": "markdown",
      "metadata": {
        "id": "view-in-github",
        "colab_type": "text"
      },
      "source": [
        "<a href=\"https://colab.research.google.com/github/ParkEunbin/ML_basic/blob/main/lab03_GradientDescentOptimization.ipynb\" target=\"_parent\"><img src=\"https://colab.research.google.com/assets/colab-badge.svg\" alt=\"Open In Colab\"/></a>"
      ]
    },
    {
      "cell_type": "code",
      "metadata": {
        "colab": {
          "base_uri": "https://localhost:8080/"
        },
        "id": "O9j4u2glT2Q5",
        "outputId": "9e4857aa-1579-4f6d-ad75-7e96802df9a9"
      },
      "source": [
        "import tensorflow.compat.v1 as tf\r\n",
        "tf.disable_v2_behavior()"
      ],
      "execution_count": 1,
      "outputs": [
        {
          "output_type": "stream",
          "text": [
            "WARNING:tensorflow:From /usr/local/lib/python3.6/dist-packages/tensorflow/python/compat/v2_compat.py:96: disable_resource_variables (from tensorflow.python.ops.variable_scope) is deprecated and will be removed in a future version.\n",
            "Instructions for updating:\n",
            "non-resource variables are not supported in the long term\n"
          ],
          "name": "stdout"
        }
      ]
    },
    {
      "cell_type": "code",
      "metadata": {
        "id": "NIUnvdlGUCMj"
      },
      "source": [
        "import matplotlib.pyplot as plt"
      ],
      "execution_count": 2,
      "outputs": []
    },
    {
      "cell_type": "code",
      "metadata": {
        "colab": {
          "base_uri": "https://localhost:8080/",
          "height": 269
        },
        "id": "xQpWMgakT-77",
        "outputId": "89d4bd49-e5ee-4ea2-a065-1c837a052e91"
      },
      "source": [
        "X=[1,2,3]\r\n",
        "Y=[1,2,3]\r\n",
        "\r\n",
        "W=tf.placeholder(tf.float32)\r\n",
        "H=X*W\r\n",
        "cost=tf.reduce_mean(tf.square(H-Y))\r\n",
        "\r\n",
        "sess=tf.Session()\r\n",
        "sess.run(tf.global_variables_initializer())\r\n",
        "\r\n",
        "W_val=[]\r\n",
        "cost_val=[]\r\n",
        "\r\n",
        "for i in range (-30,50):\r\n",
        "  feed_W=i*0.1 #-3~5간격으로 움직이겠다\r\n",
        "  #W값을 넘기면서 어케 될지\r\n",
        "  curr_cost, curr_W =sess.run([cost,W],feed_dict={W:feed_W})\r\n",
        "  W_val.append(curr_W) #리스트에 그 값을 넣어줌\r\n",
        "  cost_val.append(curr_cost)\r\n",
        "\r\n",
        "#그래프 그리기\r\n",
        "plt.plot(W_val,cost_val)\r\n",
        "plt.axis([-3, 5, 0, 80])\r\n",
        "plt.show()"
      ],
      "execution_count": 13,
      "outputs": [
        {
          "output_type": "display_data",
          "data": {
            "image/png": "[encoded data removed]",
            "text/plain": [
              "<Figure size 432x288 with 1 Axes>"
            ]
          },
          "metadata": {
            "tags": [],
            "needs_background": "light"
          }
        }
      ]
    },
    {
      "cell_type": "code",
      "metadata": {
        "colab": {
          "base_uri": "https://localhost:8080/"
        },
        "id": "J3UpQMoWYqSj",
        "outputId": "c453b379-c197-416c-b8d0-4c4277a7ead8"
      },
      "source": [
        "#lab2에서 GradientDescentOptimizer 를 쓰는 것과 동일한 동작을 하도록 만든 것\r\n",
        "x_data = [1, 2, 3]\r\n",
        "y_data = [1, 2, 3]\r\n",
        "\r\n",
        "W = tf.Variable(tf.random_normal([1]), name=\"weight\")\r\n",
        "X = tf.placeholder(tf.float32)\r\n",
        "Y = tf.placeholder(tf.float32)\r\n",
        "\r\n",
        "hypothesis = X * W\r\n",
        "\r\n",
        "cost = tf.reduce_mean(tf.square(hypothesis - Y))\r\n",
        "\r\n",
        "#수식만들어 주기 \r\n",
        "learning_rate=0.1\r\n",
        "gradient=tf.reduce_mean((W*X-Y)*X)\r\n",
        "descent=W-learning_rate*gradient\r\n",
        "update=W.assign(descent)\r\n",
        "\r\n",
        "with tf.Session() as sess:\r\n",
        "    sess.run(tf.global_variables_initializer())\r\n",
        "\r\n",
        "    for step in range(21):\r\n",
        "        _, cost_val, W_val = sess.run([update, cost, W], feed_dict={X: x_data, Y: y_data})\r\n",
        "        print(step, cost_val, W_val)\r\n"
      ],
      "execution_count": 16,
      "outputs": [
        {
          "output_type": "stream",
          "text": [
            "0 10.392288 [0.20411384]\n",
            "1 2.9560292 [0.5755274]\n",
            "2 0.8408258 [0.77361465]\n",
            "3 0.23916821 [0.87926114]\n",
            "4 0.06803005 [0.93560594]\n",
            "5 0.019350782 [0.9656565]\n",
            "6 0.005504215 [0.9816835]\n",
            "7 0.0015656408 [0.9902312]\n",
            "8 0.00044533715 [0.99478996]\n",
            "9 0.00012667575 [0.99722135]\n",
            "10 3.603149e-05 [0.99851805]\n",
            "11 1.0248648e-05 [0.99920964]\n",
            "12 2.915104e-06 [0.9995785]\n",
            "13 8.291851e-07 [0.9997752]\n",
            "14 2.3589045e-07 [0.9998801]\n",
            "15 6.7115515e-08 [0.99993604]\n",
            "16 1.909589e-08 [0.9999659]\n",
            "17 5.4244915e-09 [0.9999818]\n",
            "18 1.5444606e-09 [0.9999903]\n",
            "19 4.3933923e-10 [0.9999948]\n",
            "20 1.2487196e-10 [0.99999726]\n"
          ],
          "name": "stdout"
        }
      ]
    }
  ]
}